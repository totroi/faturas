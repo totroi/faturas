{
 "cells": [
  {
   "cell_type": "code",
   "execution_count": null,
   "id": "104f3e3c",
   "metadata": {},
   "outputs": [],
   "source": [
    "import pandas as pd\n",
    "# import numpy as np\n",
    "# import matplotlib.pyplot as plt\n",
    "import re\n",
    "import datetime"
   ]
  },
  {
   "cell_type": "code",
   "execution_count": null,
   "id": "c71b624c",
   "metadata": {},
   "outputs": [],
   "source": [
    "text_file = \"teste.txt\"\n",
    "values = []\n",
    "name = ' '\n",
    "names = []\n",
    "dates = []"
   ]
  },
  {
   "cell_type": "code",
   "execution_count": null,
   "id": "a6bf3897",
   "metadata": {},
   "outputs": [],
   "source": [
    "pat_space_before_value = re.compile('\\s(?=\\d+,)')\n"
   ]
  },
  {
   "cell_type": "code",
   "execution_count": null,
   "id": "0e13d1a0",
   "metadata": {},
   "outputs": [],
   "source": [
    "with open(text_file) as f:\n",
    "    for line in f:\n",
    "        print(line)\n",
    "        if re.search(pat_space_before_value, line):\n",
    "            s = line.split()[-1].replace('D','').replace('C','').replace(',','.')\n",
    "            d = float(s)\n",
    "            values.append(d)\n",
    "            name = name.join(line.split()[1:-1])\n",
    "            names.append(name)\n",
    "            name = ' '\n",
    "            date = line.split()[0]\n",
    "            fdate = datetime.datetime.strptime(date, \"%d/%m\")\n",
    "            dates.append(fdate)\n",
    "            "
   ]
  },
  {
   "cell_type": "code",
   "execution_count": null,
   "id": "2df9e9ec",
   "metadata": {},
   "outputs": [],
   "source": [
    "values"
   ]
  },
  {
   "cell_type": "code",
   "execution_count": null,
   "id": "9109aba8",
   "metadata": {},
   "outputs": [],
   "source": [
    "names"
   ]
  },
  {
   "cell_type": "code",
   "execution_count": null,
   "id": "4133cbcc",
   "metadata": {},
   "outputs": [],
   "source": [
    "dates"
   ]
  },
  {
   "cell_type": "code",
   "execution_count": null,
   "id": "b8cf2643",
   "metadata": {},
   "outputs": [],
   "source": [
    "df = pd.DataFrame(\n",
    "    {'Dates': dates,\n",
    "     'Names': names,\n",
    "     'Values': values\n",
    "    })"
   ]
  },
  {
   "cell_type": "code",
   "execution_count": null,
   "id": "8f7e7f01",
   "metadata": {},
   "outputs": [],
   "source": [
    "df.head()"
   ]
  },
  {
   "cell_type": "code",
   "execution_count": null,
   "id": "7bc2a8b6",
   "metadata": {},
   "outputs": [],
   "source": [
    "file_name = datetime.datetime.now().strftime(\"%d-%m-%Y-%Hh%Mm%Ss\") + '.csv'\n",
    "print(file_name)\n",
    "df.to_csv(file_name, sep=';')"
   ]
  },
  {
   "cell_type": "code",
   "execution_count": null,
   "id": "37923cb8",
   "metadata": {},
   "outputs": [],
   "source": [
    "df.count()"
   ]
  }
 ],
 "metadata": {
  "kernelspec": {
   "display_name": "Python 3.9.12 ('base')",
   "language": "python",
   "name": "python3"
  },
  "language_info": {
   "codemirror_mode": {
    "name": "ipython",
    "version": 3
   },
   "file_extension": ".py",
   "mimetype": "text/x-python",
   "name": "python",
   "nbconvert_exporter": "python",
   "pygments_lexer": "ipython3",
   "version": "3.9.12"
  },
  "vscode": {
   "interpreter": {
    "hash": "8e431f04b213e7c5fac7416ad1550c3956415546a449cd81408912f910cf203b"
   }
  }
 },
 "nbformat": 4,
 "nbformat_minor": 5
}
